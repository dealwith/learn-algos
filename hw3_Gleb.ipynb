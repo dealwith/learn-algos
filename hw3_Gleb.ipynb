{
 "cells": [
  {
   "cell_type": "markdown",
   "metadata": {},
   "source": [
    "## Домашнее задание 3\n",
    "\n",
    "Это домашнее задание посвящено темам, обсужденным на занятии 20.01.25.\n",
    "\n",
    "Дедлайн по нему - 26.01.25 23:59 GMT+3 (МСК), загружать нужно в формате .ipynb в Google Classroom курса.\n"
   ]
  },
  {
   "cell_type": "markdown",
   "metadata": {},
   "source": [
    "### Задача 1.1\n",
    "\n",
    "Реализуйте умножение матриц $2 \\times 2$ и проверьте его работоспособность, сравнив выход с матричным умножением из библиотеки numpy."
   ]
  },
  {
   "cell_type": "code",
   "execution_count": 25,
   "metadata": {},
   "outputs": [
    {
     "name": "stdout",
     "output_type": "stream",
     "text": [
      "Requirement already satisfied: numpy in /opt/homebrew/lib/python3.10/site-packages (2.2.2)\n",
      "\n",
      "\u001b[1m[\u001b[0m\u001b[34;49mnotice\u001b[0m\u001b[1;39;49m]\u001b[0m\u001b[39;49m A new release of pip is available: \u001b[0m\u001b[31;49m24.0\u001b[0m\u001b[39;49m -> \u001b[0m\u001b[32;49m25.0\u001b[0m\n",
      "\u001b[1m[\u001b[0m\u001b[34;49mnotice\u001b[0m\u001b[1;39;49m]\u001b[0m\u001b[39;49m To update, run: \u001b[0m\u001b[32;49mpython3.10 -m pip install --upgrade pip\u001b[0m\n"
     ]
    }
   ],
   "source": [
    "import sys\n",
    "!{sys.executable} -m pip install numpy"
   ]
  },
  {
   "cell_type": "code",
   "execution_count": 26,
   "metadata": {},
   "outputs": [
    {
     "name": "stdout",
     "output_type": "stream",
     "text": [
      "my result [[19, 22], [43, 50]]\n",
      "numpy result: [[19 22]\n",
      " [43 50]]\n"
     ]
    }
   ],
   "source": [
    "import numpy as np\n",
    "\n",
    "def matrix_multiply(matrix_a, matrix_b):\n",
    "\tresult = [\n",
    "\t\t[0, 0],\n",
    "\t\t[0, 0]\n",
    "\t]\n",
    "\n",
    "\tresult[0][0] = matrix_a[0][0] * matrix_b[0][0] + matrix_a[0][1] * matrix_b[1][0]\n",
    "\tresult[0][1] = matrix_a[0][0] * matrix_b[0][1] + matrix_a[0][1] * matrix_b[1][1]\n",
    "\tresult[1][0] = matrix_a[1][0] * matrix_b[0][0] + matrix_a[1][1] * matrix_b[1][0]\n",
    "\tresult[1][1] = matrix_a[1][0] * matrix_b[0][1] + matrix_a[1][1] * matrix_b[1][1]\n",
    "\n",
    "\tprint(\"my result\", result)\n",
    "\treturn result\n",
    "\n",
    "matrix_a = [\n",
    "    [1, 2],\n",
    "    [3, 4]\n",
    "]\n",
    "\n",
    "matrix_b = [\n",
    "    [5, 6],\n",
    "    [7, 8]\n",
    "]\n",
    "\n",
    "matrix_multiply(matrix_a, matrix_b)\n",
    "\n",
    "np_matrix_a = np.array(matrix_a)\n",
    "np_matrix_b = np.array(matrix_b)\n",
    "\n",
    "np_result = np.matmul(np_matrix_a, np_matrix_b)\n",
    "\n",
    "print(\"numpy result:\", np_result)"
   ]
  },
  {
   "cell_type": "markdown",
   "metadata": {},
   "source": [
    "### Задача 1.2\n",
    "\n",
    "Реализуйте умножение матриц произвольного размера и проверьте его работоспособность, сравнив выход с матричным умножением из библиотеки numpy.\n",
    "\n",
    "Оцените асимптотику вашей функции. Постройте график времени ее работы для квадратных матриц по мере роста их размера (время от $n$ при умножении двух матриц $n \\times n$)."
   ]
  },
  {
   "cell_type": "code",
   "execution_count": 27,
   "metadata": {},
   "outputs": [
    {
     "name": "stdout",
     "output_type": "stream",
     "text": [
      "my result [[19, 22], [43, 50]]\n",
      "numpy result: [[19 22]\n",
      " [43 50]]\n"
     ]
    }
   ],
   "source": [
    "import numpy as np\n",
    "\n",
    "def matrix_multiply(matrix_a, matrix_b):\n",
    "\tmatrix_a_rows = len(matrix_a)\n",
    "\tmatrix_a_cols = len(matrix_a[0])\n",
    "\tmatrix_b_cols = len(matrix_b[0])\n",
    "\n",
    "\tresult = []\n",
    "\n",
    "\tfor i in range(matrix_a_rows):\n",
    "\t\trow = []\n",
    "\t\tfor j in range(matrix_b_cols):\n",
    "\t\t\trow.append(0)\n",
    "\t\tresult.append(row)\n",
    "\n",
    "\tfor i in range(matrix_a_rows): # A\n",
    "\t\tfor j in range(matrix_b_cols): # B\n",
    "\t\t\tfor k in range(matrix_a_cols): # C\n",
    "\t\t\t\tresult[i][j] += matrix_a[i][k] * matrix_b[k][j]\n",
    "\n",
    "\treturn result\n",
    "\n",
    "matrix_a = [\n",
    "    [1, 2],\n",
    "    [3, 4]\n",
    "]\n",
    "\n",
    "matrix_b = [\n",
    "    [5, 6],\n",
    "    [7, 8]\n",
    "]\n",
    "\n",
    "print(\"my result\", matrix_multiply(matrix_a, matrix_b))\n",
    "\n",
    "np_matrix_a = np.array(matrix_a)\n",
    "np_matrix_b = np.array(matrix_b)\n",
    "\n",
    "np_result = np.matmul(np_matrix_a, np_matrix_b)\n",
    "\n",
    "print(\"numpy result:\", np_result)\n",
    "\n",
    "# Асимптотика будет O(A*B*C) -> O(n^3)\n",
    "# по памяти O(n^2), так как создается результатируюшая матрица n*n\n",
    "# нужна помощь с построением графика, не совсем понимаю как это сделать\n"
   ]
  },
  {
   "cell_type": "markdown",
   "metadata": {},
   "source": [
    "### Задача 2\n",
    "\n",
    "Реализуйте третий из способов нахождения чисел Фибоначчи из обсужденных на занятии (быстрое возведение матрицы в степень). Найдите те входы, на которых второй метод (линейный) начинает работать слишком долго и запишите время, которое требуется третьему методу на обработку того же входа. Оцените время, которое заняло бы выполнение наивного (первого) алгоритма, в тысячах лет (запускать не нужно, все равно до дедлайна не досчитается).\n",
    "\n",
    "Можно использовать реализацию второго метода из семинара, можно написать заново.\n",
    "\n",
    "Напоминаем, что у чисел из numpy есть предельная длина, а целые числа в python обрабатываются методами длинной арифметики, то есть им переполнение не грозит."
   ]
  },
  {
   "cell_type": "code",
   "execution_count": 85,
   "metadata": {},
   "outputs": [
    {
     "name": "stdout",
     "output_type": "stream",
     "text": [
      "55\n",
      "0.00013908300024922937\n"
     ]
    }
   ],
   "source": [
    "import time\n",
    "\n",
    "matrix_a = [\n",
    "  [1, 2],\n",
    "  [3, 13],\n",
    "]\n",
    "\n",
    "\n",
    "start_time = time.perf_counter()\n",
    "def fib_naive(n: int):\n",
    "    if n == 0:\n",
    "        return 0\n",
    "\n",
    "    if n == 1:\n",
    "        return 1\n",
    "\n",
    "    if n < 2:\n",
    "        return n\n",
    "    return fib_naive(n-1) + fib_naive(n-2)\n",
    "# fib_naive(40)\n",
    "# end_time = time.perf_counter()\n",
    "# print(start_time - end_time)\n",
    "\n",
    "# Время работы будет равно 1.2s при 34, 1.9s при 35, 3s при 36\n",
    "# Видим что рост начинает ускорятся при n больше 30, при n = 40 ожидание составило уже 21s\n",
    "\n",
    "\n",
    "def matrix_multiply(matrix_a, matrix_b):\n",
    "  return [[matrix_a[0][0]*matrix_b[0][0] + matrix_a[0][1]*matrix_b[1][0],\n",
    "            matrix_a[0][0]*matrix_b[0][1] + matrix_a[0][1]*matrix_b[1][1]],\n",
    "          [matrix_a[1][0]*matrix_b[0][0] + matrix_a[1][1]*matrix_b[1][0],\n",
    "            matrix_a[1][0]*matrix_b[0][1] + matrix_a[1][1]*matrix_b[1][1]]]\n",
    "\n",
    "def matrix_power(A, n: int):\n",
    "  if n == 1:\n",
    "    return A\n",
    "  if n % 2 == 0:\n",
    "    half = matrix_power(A, n // 2)\n",
    "    return matrix_multiply(half, half)\n",
    "  else:\n",
    "    return matrix_multiply(A, matrix_power(A, n - 1))\n",
    "\n",
    "matrix_power(matrix_a, 2)\n",
    "\n",
    "def fib_matrix(n: int) -> int:\n",
    "    \"\"\"\n",
    "    Вычисление n-го числа Фибоначчи через быстрое возведение в степень\n",
    "    матрицы [[1, 1], [1, 0]].\n",
    "    \"\"\"\n",
    "    if n < 2:\n",
    "        return n\n",
    "    # Матрица Q\n",
    "    Q = [[1, 1],\n",
    "         [1, 0]]\n",
    "    # Возводим в степень n\n",
    "    Qn = matrix_power(Q, n)\n",
    "    # По известному свойству: Q^n = [[F(n+1), F(n)], [F(n), F(n-1)]]\n",
    "    # Нужно взять элемент [0][1], чтобы получить F(n).\n",
    "    return Qn[0][1]\n",
    "\n",
    "start_time = time.perf_counter()\n",
    "print(fib_matrix(10))\n",
    "print(time.perf_counter() - start_time)\n"
   ]
  },
  {
   "cell_type": "markdown",
   "metadata": {},
   "source": [
    "### Задача 3\n",
    "\n",
    "Реализуйте вычисление \"фибоначчиевости\" из последней задачи с занятия без использования встроенной структуры данных \"множество\"."
   ]
  },
  {
   "cell_type": "code",
   "execution_count": 86,
   "metadata": {},
   "outputs": [
    {
     "ename": "SyntaxError",
     "evalue": "invalid syntax (3337262291.py, line 1)",
     "output_type": "error",
     "traceback": [
      "\u001b[0;36m  Cell \u001b[0;32mIn[86], line 1\u001b[0;36m\u001b[0m\n\u001b[0;31m    1 1 3 5\u001b[0m\n\u001b[0m      ^\u001b[0m\n\u001b[0;31mSyntaxError\u001b[0m\u001b[0;31m:\u001b[0m invalid syntax\n"
     ]
    }
   ],
   "source": [
    "1 1 3 5\n",
    "\n",
    "a3 - ?\n",
    "\n",
    "1 1 0 3 5; 0\n",
    "1 1 1 3 5; 0\n",
    "1 1 2 3 5; 3 (фиб 3!)\n",
    "1 1 3 3 5; 0\n",
    "1 1 4 3 5; 0\n",
    "1 1 5 3 5; 0\n",
    "\n",
    "a1 a2 (a1 + a2) a4 a5\n",
    "\n",
    "фибоначчиевость = 3:\n",
    "1 1 2 3 5\n",
    "\n",
    "фибоначчиевость = 2:\n",
    "1 1 2 3 10\n",
    "1 1 2 8 10\n",
    "\n",
    "фибоначчиевость = 1:\n",
    "1 1 2 5 10"
   ]
  },
  {
   "cell_type": "code",
   "execution_count": null,
   "metadata": {},
   "outputs": [],
   "source": [
    "def calc_f(a1, a2, a4, a5):\n",
    "    sum12 = a1 + a2\n",
    "    diff42 = a4 - a2\n",
    "    diff54 = a5 - a4\n",
    "\n",
    "    num_un = len({sum12, diff42, diff54})\n",
    "\n",
    "    fib = 4 - num_un\n",
    "\n",
    "    return fib\n",
    "\n",
    "def calc_f_no_set(a1, a2, a4, a5):\n",
    "    fib = 1\n",
    "\n",
    "    sum12 = a1 + a2\n",
    "    diff42 = a4 - a2\n",
    "    diff54 = a5 - a4\n",
    "\n",
    "    # YOUR CODE HERE\n",
    "\n",
    "\n",
    "\n",
    "    return fib\n",
    "\n",
    "inps = [[1, 1, 3, 5],\n",
    "        [1, 3, 2, 1],\n",
    "        [8, 10, 28, 100],\n",
    "        [100, 1, 100, 1],\n",
    "        [1, 100, 1, 100],\n",
    "        [100, 100, 100, 100]]\n",
    "\n",
    "ans = [3, 2, 2, 1, 1, 2]\n",
    "\n",
    "correct = 0\n",
    "\n",
    "for i, inp in enumerate(inps):\n",
    "    if (calc_f_no_set(*inp) == ans[i]):\n",
    "        correct += 1\n",
    "\n",
    "print(f\"correct: {correct} out of {len(inps)}\")"
   ]
  }
 ],
 "metadata": {
  "kernelspec": {
   "display_name": "Python 3",
   "language": "python",
   "name": "python3"
  },
  "language_info": {
   "codemirror_mode": {
    "name": "ipython",
    "version": 3
   },
   "file_extension": ".py",
   "mimetype": "text/x-python",
   "name": "python",
   "nbconvert_exporter": "python",
   "pygments_lexer": "ipython3",
   "version": "3.10.14"
  }
 },
 "nbformat": 4,
 "nbformat_minor": 2
}
